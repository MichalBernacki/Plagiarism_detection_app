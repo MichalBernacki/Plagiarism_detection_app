{
 "cells": [
  {
   "cell_type": "markdown",
   "metadata": {},
   "source": [
    "# Aplikacja do wykrywania plagiatów w plikach źródłowych programów"
   ]
  },
  {
   "cell_type": "markdown",
   "metadata": {},
   "source": [
    "<img src=\"https://raw.githubusercontent.com/isocpp/logos/master/cpp_logo.svg\" width=\"20%\"/>"
   ]
  },
  {
   "cell_type": "markdown",
   "metadata": {},
   "source": [
    "Założenia projektu:\n",
    "\n",
    "- Klasyczna witryna pozwalająca na prowadzenie zajęć na uczelni wyższej.\t\n",
    "\t\n",
    "- Prowadzący może dodawać przedmioty na które studenci będą mogli się zapisywać. Po potwierdzeniu przez prowadzącego student uzyskuje dostęp do materiałów.\n",
    "\t\n",
    "- Prowadzący może dodawać lekcje pod przedmiotem wraz z opisem. Każda lekcja posiada jedno lub więcej wystąpień. Prowadzący ma możliwość sprawdzania obecności na lekcji oraz przyznawania plusów za aktywność.\n",
    "\t\n",
    "- O tym czy dany użytkownik jest prowadzącym decyduje pracownik dziekanatu. Tak samo decyduje on o tym czy inni użytkownicy są studentami. Tylko student może się zapisywać na nowe zajęcia.\n",
    "\t\n",
    "- Na podstawie zdobytych plusów wystawiana jest ocena końcowa z przedmiotu"
   ]
  },
  {
   "cell_type": "markdown",
   "metadata": {},
   "source": [
    "Pliki projektu można edytować tutaj:\n",
    "\n",
    "[Projekt](Projekt/index.ipynb)"
   ]
  }
 ],
 "metadata": {
  "kernelspec": {
   "display_name": "Python 3",
   "language": "python",
   "name": "python3"
  },
  "language_info": {
   "codemirror_mode": {
    "name": "ipython",
    "version": 3
   },
   "file_extension": ".py",
   "mimetype": "text/x-python",
   "name": "python",
   "nbconvert_exporter": "python",
   "pygments_lexer": "ipython3",
   "version": "3.8.3"
  }
 },
 "nbformat": 4,
 "nbformat_minor": 4
}
